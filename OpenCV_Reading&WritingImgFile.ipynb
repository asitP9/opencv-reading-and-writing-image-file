{
 "cells": [
  {
   "cell_type": "code",
   "execution_count": 21,
   "id": "4b652c1c",
   "metadata": {},
   "outputs": [],
   "source": [
    "import tensorflow as tf\n",
    "import cv2\n",
    "import numpy as np\n",
    "import os"
   ]
  },
  {
   "cell_type": "code",
   "execution_count": 2,
   "id": "d7d5a435",
   "metadata": {},
   "outputs": [],
   "source": [
    "import numpy as np"
   ]
  },
  {
   "cell_type": "code",
   "execution_count": 4,
   "id": "dc50a06b",
   "metadata": {},
   "outputs": [],
   "source": [
    "img=np.zeros((3,3), dtype=np.uint8)"
   ]
  },
  {
   "cell_type": "code",
   "execution_count": 5,
   "id": "08ff7471",
   "metadata": {},
   "outputs": [
    {
     "data": {
      "text/plain": [
       "array([[0, 0, 0],\n",
       "       [0, 0, 0],\n",
       "       [0, 0, 0]], dtype=uint8)"
      ]
     },
     "execution_count": 5,
     "metadata": {},
     "output_type": "execute_result"
    }
   ],
   "source": [
    "img"
   ]
  },
  {
   "cell_type": "code",
   "execution_count": 6,
   "id": "19de1070",
   "metadata": {},
   "outputs": [],
   "source": [
    "img=cv2.cvtColor(img, cv2.COLOR_GRAY2BGR)"
   ]
  },
  {
   "cell_type": "code",
   "execution_count": 7,
   "id": "75bbb02c",
   "metadata": {},
   "outputs": [
    {
     "data": {
      "text/plain": [
       "array([[[0, 0, 0],\n",
       "        [0, 0, 0],\n",
       "        [0, 0, 0]],\n",
       "\n",
       "       [[0, 0, 0],\n",
       "        [0, 0, 0],\n",
       "        [0, 0, 0]],\n",
       "\n",
       "       [[0, 0, 0],\n",
       "        [0, 0, 0],\n",
       "        [0, 0, 0]]], dtype=uint8)"
      ]
     },
     "execution_count": 7,
     "metadata": {},
     "output_type": "execute_result"
    }
   ],
   "source": [
    "img\n"
   ]
  },
  {
   "cell_type": "markdown",
   "id": "d9c43334",
   "metadata": {},
   "source": [
    "### KNOWING THE DIMENSIONS OF AN IMAGE"
   ]
  },
  {
   "cell_type": "code",
   "execution_count": 10,
   "id": "80d37b66",
   "metadata": {},
   "outputs": [
    {
     "data": {
      "text/plain": [
       "(5, 3)"
      ]
     },
     "execution_count": 10,
     "metadata": {},
     "output_type": "execute_result"
    }
   ],
   "source": [
    "img=np.zeros((5, 3), dtype=np.uint8)\n",
    "img.shape"
   ]
  },
  {
   "cell_type": "markdown",
   "id": "5e493d25",
   "metadata": {},
   "source": [
    "### Converting the image from one format to another"
   ]
  },
  {
   "cell_type": "code",
   "execution_count": 12,
   "id": "f3ec8287",
   "metadata": {},
   "outputs": [],
   "source": [
    "myImg=cv2.imread(\"mario.png\")"
   ]
  },
  {
   "cell_type": "code",
   "execution_count": 13,
   "id": "64e04d70",
   "metadata": {},
   "outputs": [
    {
     "data": {
      "text/plain": [
       "(1854, 1473, 3)"
      ]
     },
     "execution_count": 13,
     "metadata": {},
     "output_type": "execute_result"
    }
   ],
   "source": [
    "myImg.shape"
   ]
  },
  {
   "cell_type": "markdown",
   "id": "5ca1398c",
   "metadata": {},
   "source": [
    "### Here in the above image we can see that the height of the image is in the rows i.e, 1854, while the width of the image is in the columns ie, 1473"
   ]
  },
  {
   "cell_type": "code",
   "execution_count": 15,
   "id": "30a15784",
   "metadata": {},
   "outputs": [
    {
     "data": {
      "text/plain": [
       "True"
      ]
     },
     "execution_count": 15,
     "metadata": {},
     "output_type": "execute_result"
    }
   ],
   "source": [
    "cv2.imwrite(\"mario.jpg\", myImg)"
   ]
  },
  {
   "cell_type": "code",
   "execution_count": 19,
   "id": "30f49e67",
   "metadata": {},
   "outputs": [],
   "source": [
    "myImg_greyscale=cv2.imread(\"baby.jpg\", cv2.IMREAD_GRAYSCALE)"
   ]
  },
  {
   "cell_type": "code",
   "execution_count": 20,
   "id": "10ccfbc3",
   "metadata": {},
   "outputs": [
    {
     "data": {
      "text/plain": [
       "True"
      ]
     },
     "execution_count": 20,
     "metadata": {},
     "output_type": "execute_result"
    }
   ],
   "source": [
    "cv2.imwrite(\"baby_greyscale.jpg\", myImg_greyscale)"
   ]
  },
  {
   "cell_type": "markdown",
   "id": "17dc6e74",
   "metadata": {},
   "source": [
    "### Construction of a random image using random byte array"
   ]
  },
  {
   "cell_type": "code",
   "execution_count": 22,
   "id": "9170e044",
   "metadata": {},
   "outputs": [],
   "source": [
    "# Make an array of 120,000 random bytes.\n",
    "# we can also use numpy.random.randint(0, 256, 120000) in place of below code\n",
    "randomByteArray=bytearray(os.urandom(120000))\n",
    "flatNumpyArray=np.array(randomByteArray)"
   ]
  },
  {
   "cell_type": "code",
   "execution_count": 23,
   "id": "556f0532",
   "metadata": {},
   "outputs": [
    {
     "data": {
      "text/plain": [
       "array([231,   6, 204, ...,  53,  44,  41], dtype=uint8)"
      ]
     },
     "execution_count": 23,
     "metadata": {},
     "output_type": "execute_result"
    }
   ],
   "source": [
    "flatNumpyArray"
   ]
  },
  {
   "cell_type": "code",
   "execution_count": 25,
   "id": "491bbb58",
   "metadata": {},
   "outputs": [
    {
     "data": {
      "text/plain": [
       "True"
      ]
     },
     "execution_count": 25,
     "metadata": {},
     "output_type": "execute_result"
    }
   ],
   "source": [
    "# Convert the array to make a 400x300 grayscale image.\n",
    "grayImage=flatNumpyArray.reshape(300, 400)\n",
    "cv2.imwrite(\"my_random_img_greyscale.png\", grayImage)"
   ]
  },
  {
   "cell_type": "code",
   "execution_count": 26,
   "id": "2537df19",
   "metadata": {},
   "outputs": [
    {
     "data": {
      "text/plain": [
       "True"
      ]
     },
     "execution_count": 26,
     "metadata": {},
     "output_type": "execute_result"
    }
   ],
   "source": [
    "# Convert the array to make a 400x100 color image.\n",
    "colorImage=flatNumpyArray.reshape(100, 400, 3)\n",
    "cv2.imwrite(\"my_random_img_color.png\", colorImage)"
   ]
  },
  {
   "cell_type": "markdown",
   "id": "cbee4679",
   "metadata": {},
   "source": [
    "## Image Manipulations"
   ]
  },
  {
   "cell_type": "markdown",
   "id": "a19e8a11",
   "metadata": {},
   "source": [
    "### Say you want to manipulate a pixel at coordinates (0, 0) in a BGR image and turn it into a white pixel:"
   ]
  },
  {
   "cell_type": "code",
   "execution_count": 34,
   "id": "d84174d5",
   "metadata": {},
   "outputs": [
    {
     "data": {
      "text/plain": [
       "True"
      ]
     },
     "execution_count": 34,
     "metadata": {},
     "output_type": "execute_result"
    }
   ],
   "source": [
    "img=cv2.imread(\"baby.jpg\")\n",
    "img.shape\n",
    "\n",
    "img[0, 0]=[255, 255, 255]\n",
    "\n",
    "cv2.imwrite(\"baby_modified.jpg\", img)\n",
    "# you will see a white dot in the top-left corner of the image"
   ]
  },
  {
   "cell_type": "markdown",
   "id": "0f2064d5",
   "metadata": {},
   "source": [
    "### change the value of the blue channel at (150, 120) from its current value to an arbitrary 255:"
   ]
  },
  {
   "cell_type": "code",
   "execution_count": 35,
   "id": "14a8efc5",
   "metadata": {},
   "outputs": [
    {
     "name": "stdout",
     "output_type": "stream",
     "text": [
      "255\n"
     ]
    }
   ],
   "source": [
    "img=cv2.imread(\"baby.jpg\")\n",
    "img.itemset((150, 120, 0), 255) # Sets the value of a pixel's blue channel\n",
    "\n",
    "print(img.item(150, 120, 0)) # Prints the value of a pixel's blue channel\n"
   ]
  },
  {
   "cell_type": "markdown",
   "id": "429cf053",
   "metadata": {},
   "source": [
    "### an example of using array slicing to manipulate color channels. Setting all G (green) values of an image to 0 is as simple as the following code:"
   ]
  },
  {
   "cell_type": "code",
   "execution_count": 38,
   "id": "68f78637",
   "metadata": {},
   "outputs": [],
   "source": [
    "img=cv2.imread(\"baby.jpg\")\n",
    "\n",
    "\n",
    "img[:, :, 1] = 0\n"
   ]
  },
  {
   "cell_type": "code",
   "execution_count": null,
   "id": "f1895e4a",
   "metadata": {},
   "outputs": [],
   "source": []
  }
 ],
 "metadata": {
  "kernelspec": {
   "display_name": "Python 3",
   "language": "python",
   "name": "python3"
  },
  "language_info": {
   "codemirror_mode": {
    "name": "ipython",
    "version": 3
   },
   "file_extension": ".py",
   "mimetype": "text/x-python",
   "name": "python",
   "nbconvert_exporter": "python",
   "pygments_lexer": "ipython3",
   "version": "3.8.10"
  }
 },
 "nbformat": 4,
 "nbformat_minor": 5
}
